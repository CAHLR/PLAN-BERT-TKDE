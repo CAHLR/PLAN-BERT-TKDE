{
 "cells": [
  {
   "cell_type": "code",
   "execution_count": 2,
   "metadata": {},
   "outputs": [],
   "source": [
    "%matplotlib inline\n",
    "import pickle, os, tqdm, json\n",
    "import numpy as np\n",
    "import matplotlib.pyplot as plt\n",
    "\n",
    "fontsize = 30\n",
    "linewidth = 5\n",
    "plt.rc('font',family='Times New Roman', size=fontsize)\n",
    "plot_dict = {'markersize':15, 'markeredgewidth':5, 'linewidth':linewidth}\n",
    "c = [[0, 0.4470, 0.7410], [0.8500, 0.3250, 0.0980], [0.9290, 0.6940, 0.1250],[0.494, 0.184, 0.556], [0.466, 0.674, 0.188], [0.301, 0.745, 0.933], [0.635, 0.078, 0.184]]"
   ]
  },
  {
   "cell_type": "code",
   "execution_count": 6,
   "metadata": {
    "scrolled": true
   },
   "outputs": [
    {
     "name": "stdout",
     "output_type": "stream",
     "text": [
      "0.0366 0.0574 0.0694 0.0725 0.0788 0.0835 0.0873 0.0938 0.0929 0.092 \n",
      "0.0727 0.0818 0.0881 0.09 0.0886 0.0873 0.0929 0.0945 0.0923 0.0888 \n",
      "0.074 0.0836 0.0882 0.0906 0.0924 0.0929 0.092 0.0995 0.0946 0.0962 \n",
      "0.0885 0.0933 0.0972 0.0943 0.0967 0.0974 0.1008 0.1037 0.1018 0.1023 \n",
      "0.0961 0.1028 0.108 0.1072 0.1083 0.1077 0.1106 0.1132 0.1121 0.1069 \n",
      "0.1049 0.1091 0.1113 0.1129 0.115 0.1156 0.1161 0.1247 0.1231 0.1199 \n",
      "0.1231 0.1254 0.1243 0.1266 0.1231 0.1325 0.129 0.136 0.1419 0.143 \n",
      "0.1388 0.1388 0.1423 0.1423 0.1423 0.1388 0.1388 0.1352 0.1388 0.1281 \n"
     ]
    }
   ],
   "source": [
    "data = np.load('PLANBERT-wishlist.npy', allow_pickle=True).tolist()\n",
    "\n",
    "for h in [0, 1, 2, 3, 5, 10, 15, 20]:\n",
    "    r_list = []\n",
    "    for r in [0, 1, 2, 3, 5, 7, 10, 15, 20, 25]:\n",
    "    #for r in [0]:\n",
    "        r_list.append(np.round(data[h][r][0],4))\n",
    "        print(np.round(data[h][r][0], 4), end=' ')\n",
    "    print('\\n', end='')"
   ]
  },
  {
   "cell_type": "code",
   "execution_count": 10,
   "metadata": {},
   "outputs": [
    {
     "name": "stdout",
     "output_type": "stream",
     "text": [
      "0.0513 \n",
      "0.0702 \n",
      "0.0771 \n",
      "0.0856 \n",
      "0.0901 \n",
      "0.099 \n",
      "0.0996 \n",
      "0.1246 \n"
     ]
    }
   ],
   "source": [
    "data = np.load('PLANBERT-auto-regressive.npy', allow_pickle=True).tolist()['dist']\n",
    "\n",
    "for h in [0, 1, 2, 3, 5, 10, 15, 20]:\n",
    "    r_list = []\n",
    "    for r in [0]:\n",
    "        r_list.append(np.round(data[h][r][0],4))\n",
    "        print(np.round(data[h][r][0], 4), end=' ')\n",
    "    print('\\n', end='')"
   ]
  },
  {
   "cell_type": "code",
   "execution_count": null,
   "metadata": {},
   "outputs": [],
   "source": []
  }
 ],
 "metadata": {
  "kernelspec": {
   "display_name": "Python 3",
   "language": "python",
   "name": "python3"
  },
  "language_info": {
   "codemirror_mode": {
    "name": "ipython",
    "version": 3
   },
   "file_extension": ".py",
   "mimetype": "text/x-python",
   "name": "python",
   "nbconvert_exporter": "python",
   "pygments_lexer": "ipython3",
   "version": "3.7.9"
  }
 },
 "nbformat": 4,
 "nbformat_minor": 4
}
