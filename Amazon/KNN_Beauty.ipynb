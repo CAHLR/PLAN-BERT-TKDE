{
 "cells": [
  {
   "cell_type": "code",
   "execution_count": 1,
   "metadata": {},
   "outputs": [
    {
     "name": "stdout",
     "output_type": "stream",
     "text": [
      "8\n",
      "Namespace(ckptname=None, nonimprove_limit=10, num_heads=8, num_hidden_dims=512, num_layers=2, pt_history_func='(lambda x:x)', pt_history_param='20', pt_sample_func='(lambda x:x)', pt_sample_param='0', seed=0, test=False, use_item_feat=True, use_user_feat=True)\n",
      "{'cuda_num': 1, 'course_file': '../datasets/Amazon_data/Beauty/basket_dataset.pkl', 'num_times': 20, 'num_items': 10000, 'batch_size': 32, 'feats': [5]}\n",
      "Total Number of Users : 10000\n"
     ]
    }
   ],
   "source": [
    "import sys\n",
    "import torch\n",
    "print(torch.cuda.device_count())\n",
    "sys.path.append(\"..\")\n",
    "import numpy as np\n",
    "import os\n",
    "import pickle, importlib, random, Engine, tqdm, copy, json, time, argparse\n",
    "import util.Generator as Generator\n",
    "import util.Datahelper as dh\n",
    "\n",
    "sys.argv = ' '\n",
    "parser = argparse.ArgumentParser()\n",
    "parser.add_argument('-test', action=\"store_true\", default=False)\n",
    "parser.add_argument('-ckptname', dest='ckptname', default=None, required=False)\n",
    "\n",
    "parser.add_argument('-nl', dest='num_layers', default=2, required=False)\n",
    "parser.add_argument('-nhd', dest='num_hidden_dims', default=2**9, required=False)\n",
    "parser.add_argument('-nh', dest='num_heads', default=8, required=False)\n",
    "\n",
    "parser.add_argument('-i', dest='use_item_feat', default=True, required=False)\n",
    "parser.add_argument('-u', dest='use_user_feat', default=True, required=False)\n",
    "\n",
    "parser.add_argument(\n",
    "    '-pt_sample_func', dest='pt_sample_func', default='(lambda x:x)', required=False)\n",
    "parser.add_argument(\n",
    "    '-pt_sample_param', dest='pt_sample_param', default='0', required=False)\n",
    "parser.add_argument(\n",
    "    '-pt_history_func', dest='pt_history_func', default='(lambda x:x)', required=False)\n",
    "parser.add_argument(\n",
    "    '-pt_history_param', dest='pt_history_param', default='20', required=False)\n",
    "\n",
    "parser.add_argument('-nonimprove_limit', dest='nonimprove_limit', default=10, required=False)\n",
    "parser.add_argument('-seed', dest='seed', default=0, required=False, type=int)\n",
    "args = parser.parse_args()\n",
    "print(args)\n",
    "\n",
    "Engine.set_random_seed(args.seed)\n",
    "\n",
    "basic_config = {\n",
    "    'cuda_num' : Engine.GPU_max_free_memory(),\n",
    "    'course_file' : '../datasets/Amazon_data/Beauty/basket_dataset.pkl',\n",
    "    'num_times' : 20,\n",
    "    'num_items' : 10000, \n",
    "    'batch_size' : 32, \n",
    "    'feats' : [5]\n",
    "}\n",
    "    \n",
    "save_name = 'checkpoint/KNN'\n",
    "print(basic_config)\n",
    "\n",
    "os.environ['CUDA_VISIBLE_DEVICES'] = str(basic_config['cuda_num'])\n",
    "\n",
    "with open(basic_config['course_file'], 'rb') as f:\n",
    "    user_dict = pickle.load(f)\n",
    "    print('Total Number of Users : ' + str(len(user_dict)))\n",
    "    \n",
    "all_keys = list(user_dict.keys())\n",
    "all_keys.sort()\n",
    "np.random.shuffle(all_keys)\n",
    "#used_keys, _ = dh.list_partition(all_keys, 0.1, seed=0)\n",
    "\n",
    "train_keys, tv_keys = dh.list_partition(all_keys, 0.7, seed=0)\n",
    "test_keys, valid_keys = dh.list_partition(tv_keys, 0.5, seed=0)"
   ]
  },
  {
   "cell_type": "code",
   "execution_count": 2,
   "metadata": {},
   "outputs": [],
   "source": [
    "def generator2feature(generator):\n",
    "    dataset = generator.__getitem__(batch_id=0, batch_size='MAX')[0]\n",
    "    course = dataset[0]\n",
    "    target = dataset[-1]\n",
    "    return course, target\n",
    "\n",
    "if True:\n",
    "    train_generator_config = {\n",
    "        'name' : None,\n",
    "        'training' : True, \n",
    "        'sample_func' : args.pt_sample_func,\n",
    "        'sample_param' : args.pt_sample_param,\n",
    "        'history_func' : args.pt_history_func,\n",
    "        'history_param' : args.pt_history_param,\n",
    "        'next_basket' : True, \n",
    "        'batch_size' : basic_config['batch_size'],\n",
    "        'shuffle' : True,\n",
    "        'fixed_seed' : False}\n",
    "\n",
    "    train_generator = Generator.TimeMultihotGenerator(\n",
    "        user_dict, train_keys, basic_config, train_generator_config)\n",
    "\n",
    "train_courses, train_target = generator2feature(train_generator)\n",
    "\n",
    "from sklearn.metrics.pairwise import cosine_similarity\n",
    "from sklearn.feature_extraction.text import TfidfTransformer\n",
    "from sklearn.neighbors import NearestNeighbors\n",
    "import util.Metrics as Metrics\n",
    "\n",
    "def userKNN_GPU(train_features, test_courses, cuda_num):\n",
    "    # train_features, torch.FloatTensor in GPU [num_stu, num_courses]\n",
    "    # test_courses, np.array in CPU [num_stu, num_sem, num_courses]\n",
    "    test_features = torch.FloatTensor(test_courses.sum(1).astype(float)).cuda(cuda_num)\n",
    "    #train_features += torch.rand(train_features.shape).cuda(cuda_num) * 1e-10\n",
    "    #test_features += torch.rand(test_features.shape).cuda(cuda_num) * 1e-10\n",
    "\n",
    "    sim = []\n",
    "    for iter in tqdm.tqdm(range(test_features.shape[0])):\n",
    "        sim.append(torch.cosine_similarity(train_features.unsqueeze(1), test_features[iter].unsqueeze(0).unsqueeze(0), dim=-1))\n",
    "    sim = torch.cat(sim, dim=-1).T\n",
    "\n",
    "    pred = []\n",
    "    for iter in range(basic_config['num_times']):\n",
    "        pred.append(torch.matmul(sim, torch.FloatTensor(train_courses[:, iter]).cuda(cuda_num))[:, np.newaxis])\n",
    "    pred = torch.cat(pred, dim=1)\n",
    "    #pred += torch.rand(pred.shape).cuda(cuda_num) * 1e-10\n",
    "    pred = pred.cpu().numpy()\n",
    "    return pred"
   ]
  },
  {
   "cell_type": "code",
   "execution_count": 3,
   "metadata": {},
   "outputs": [
    {
     "name": "stdout",
     "output_type": "stream",
     "text": [
      "H=0_R=0 16\n"
     ]
    },
    {
     "name": "stderr",
     "output_type": "stream",
     "text": [
      "100%|██████████| 1500/1500 [00:05<00:00, 251.75it/s]\n"
     ]
    },
    {
     "name": "stdout",
     "output_type": "stream",
     "text": [
      "Recall: 0.0014\n",
      "H=0_R=1 16\n"
     ]
    },
    {
     "name": "stderr",
     "output_type": "stream",
     "text": [
      "100%|██████████| 1500/1500 [00:06<00:00, 247.82it/s]\n"
     ]
    },
    {
     "name": "stdout",
     "output_type": "stream",
     "text": [
      "Recall: 0.0485\n",
      "H=0_R=2 16\n"
     ]
    },
    {
     "name": "stderr",
     "output_type": "stream",
     "text": [
      "100%|██████████| 1500/1500 [00:06<00:00, 230.16it/s]\n"
     ]
    },
    {
     "name": "stdout",
     "output_type": "stream",
     "text": [
      "Recall: 0.0549\n",
      "H=0_R=3 16\n"
     ]
    },
    {
     "name": "stderr",
     "output_type": "stream",
     "text": [
      "100%|██████████| 1500/1500 [00:05<00:00, 259.37it/s]\n"
     ]
    },
    {
     "name": "stdout",
     "output_type": "stream",
     "text": [
      "Recall: 0.0619\n",
      "H=0_R=4 16\n"
     ]
    },
    {
     "name": "stderr",
     "output_type": "stream",
     "text": [
      "100%|██████████| 1500/1500 [00:05<00:00, 259.32it/s]\n"
     ]
    },
    {
     "name": "stdout",
     "output_type": "stream",
     "text": [
      "Recall: 0.0706\n",
      "H=0_R=5 16\n"
     ]
    },
    {
     "name": "stderr",
     "output_type": "stream",
     "text": [
      "100%|██████████| 1500/1500 [00:10<00:00, 145.45it/s]\n"
     ]
    },
    {
     "name": "stdout",
     "output_type": "stream",
     "text": [
      "Recall: 0.0727\n",
      "H=1_R=0 16\n"
     ]
    },
    {
     "name": "stderr",
     "output_type": "stream",
     "text": [
      "100%|██████████| 1500/1500 [00:07<00:00, 202.07it/s]\n"
     ]
    },
    {
     "name": "stdout",
     "output_type": "stream",
     "text": [
      "Recall: 0.0359\n",
      "H=1_R=1 16\n"
     ]
    },
    {
     "name": "stderr",
     "output_type": "stream",
     "text": [
      "100%|██████████| 1500/1500 [00:05<00:00, 251.04it/s]\n"
     ]
    },
    {
     "name": "stdout",
     "output_type": "stream",
     "text": [
      "Recall: 0.0501\n",
      "H=1_R=2 16\n"
     ]
    },
    {
     "name": "stderr",
     "output_type": "stream",
     "text": [
      "100%|██████████| 1500/1500 [00:06<00:00, 236.42it/s]\n"
     ]
    },
    {
     "name": "stdout",
     "output_type": "stream",
     "text": [
      "Recall: 0.0539\n",
      "H=1_R=3 16\n"
     ]
    },
    {
     "name": "stderr",
     "output_type": "stream",
     "text": [
      "100%|██████████| 1500/1500 [00:06<00:00, 242.19it/s]\n"
     ]
    },
    {
     "name": "stdout",
     "output_type": "stream",
     "text": [
      "Recall: 0.0607\n",
      "H=1_R=4 16\n"
     ]
    },
    {
     "name": "stderr",
     "output_type": "stream",
     "text": [
      "100%|██████████| 1500/1500 [00:05<00:00, 259.30it/s]\n"
     ]
    },
    {
     "name": "stdout",
     "output_type": "stream",
     "text": [
      "Recall: 0.0653\n",
      "H=1_R=5 16\n"
     ]
    },
    {
     "name": "stderr",
     "output_type": "stream",
     "text": [
      "100%|██████████| 1500/1500 [00:05<00:00, 296.13it/s]\n"
     ]
    },
    {
     "name": "stdout",
     "output_type": "stream",
     "text": [
      "Recall: 0.0670\n",
      "H=2_R=0 16\n"
     ]
    },
    {
     "name": "stderr",
     "output_type": "stream",
     "text": [
      "100%|██████████| 1500/1500 [00:05<00:00, 296.03it/s]\n"
     ]
    },
    {
     "name": "stdout",
     "output_type": "stream",
     "text": [
      "Recall: 0.0415\n",
      "H=2_R=1 16\n"
     ]
    },
    {
     "name": "stderr",
     "output_type": "stream",
     "text": [
      "100%|██████████| 1500/1500 [00:05<00:00, 297.22it/s]\n"
     ]
    },
    {
     "name": "stdout",
     "output_type": "stream",
     "text": [
      "Recall: 0.0482\n",
      "H=2_R=2 16\n"
     ]
    },
    {
     "name": "stderr",
     "output_type": "stream",
     "text": [
      "100%|██████████| 1500/1500 [00:05<00:00, 280.31it/s]\n"
     ]
    },
    {
     "name": "stdout",
     "output_type": "stream",
     "text": [
      "Recall: 0.0515\n",
      "H=2_R=3 16\n"
     ]
    },
    {
     "name": "stderr",
     "output_type": "stream",
     "text": [
      "100%|██████████| 1500/1500 [00:08<00:00, 176.37it/s]\n"
     ]
    },
    {
     "name": "stdout",
     "output_type": "stream",
     "text": [
      "Recall: 0.0566\n",
      "H=2_R=4 16\n"
     ]
    },
    {
     "name": "stderr",
     "output_type": "stream",
     "text": [
      "100%|██████████| 1500/1500 [00:09<00:00, 159.91it/s]\n"
     ]
    },
    {
     "name": "stdout",
     "output_type": "stream",
     "text": [
      "Recall: 0.0585\n",
      "H=2_R=5 16\n"
     ]
    },
    {
     "name": "stderr",
     "output_type": "stream",
     "text": [
      "100%|██████████| 1500/1500 [00:09<00:00, 152.83it/s]\n"
     ]
    },
    {
     "name": "stdout",
     "output_type": "stream",
     "text": [
      "Recall: 0.0599\n",
      "H=3_R=0 16\n"
     ]
    },
    {
     "name": "stderr",
     "output_type": "stream",
     "text": [
      "100%|██████████| 1500/1500 [00:11<00:00, 135.29it/s]\n"
     ]
    },
    {
     "name": "stdout",
     "output_type": "stream",
     "text": [
      "Recall: 0.0491\n",
      "H=3_R=1 16\n"
     ]
    },
    {
     "name": "stderr",
     "output_type": "stream",
     "text": [
      "100%|██████████| 1500/1500 [00:06<00:00, 237.96it/s]\n"
     ]
    },
    {
     "name": "stdout",
     "output_type": "stream",
     "text": [
      "Recall: 0.0533\n",
      "H=3_R=2 16\n"
     ]
    },
    {
     "name": "stderr",
     "output_type": "stream",
     "text": [
      "100%|██████████| 1500/1500 [00:05<00:00, 296.46it/s]\n"
     ]
    },
    {
     "name": "stdout",
     "output_type": "stream",
     "text": [
      "Recall: 0.0522\n",
      "H=3_R=3 16\n"
     ]
    },
    {
     "name": "stderr",
     "output_type": "stream",
     "text": [
      "100%|██████████| 1500/1500 [00:05<00:00, 297.19it/s]\n"
     ]
    },
    {
     "name": "stdout",
     "output_type": "stream",
     "text": [
      "Recall: 0.0581\n",
      "H=3_R=4 16\n"
     ]
    },
    {
     "name": "stderr",
     "output_type": "stream",
     "text": [
      "100%|██████████| 1500/1500 [00:05<00:00, 297.25it/s]\n"
     ]
    },
    {
     "name": "stdout",
     "output_type": "stream",
     "text": [
      "Recall: 0.0601\n",
      "H=3_R=5 16\n"
     ]
    },
    {
     "name": "stderr",
     "output_type": "stream",
     "text": [
      "100%|██████████| 1500/1500 [00:05<00:00, 296.62it/s]\n"
     ]
    },
    {
     "name": "stdout",
     "output_type": "stream",
     "text": [
      "Recall: 0.0615\n",
      "H=5_R=0 16\n"
     ]
    },
    {
     "name": "stderr",
     "output_type": "stream",
     "text": [
      "100%|██████████| 1500/1500 [00:05<00:00, 297.31it/s]\n"
     ]
    },
    {
     "name": "stdout",
     "output_type": "stream",
     "text": [
      "Recall: 0.0518\n",
      "H=5_R=1 16\n"
     ]
    },
    {
     "name": "stderr",
     "output_type": "stream",
     "text": [
      "100%|██████████| 1500/1500 [00:05<00:00, 297.22it/s]\n"
     ]
    },
    {
     "name": "stdout",
     "output_type": "stream",
     "text": [
      "Recall: 0.0557\n",
      "H=5_R=2 16\n"
     ]
    },
    {
     "name": "stderr",
     "output_type": "stream",
     "text": [
      "100%|██████████| 1500/1500 [00:05<00:00, 296.56it/s]\n"
     ]
    },
    {
     "name": "stdout",
     "output_type": "stream",
     "text": [
      "Recall: 0.0566\n",
      "H=5_R=3 16\n"
     ]
    },
    {
     "name": "stderr",
     "output_type": "stream",
     "text": [
      "100%|██████████| 1500/1500 [00:05<00:00, 296.46it/s]\n"
     ]
    },
    {
     "name": "stdout",
     "output_type": "stream",
     "text": [
      "Recall: 0.0613\n",
      "H=5_R=4 16\n"
     ]
    },
    {
     "name": "stderr",
     "output_type": "stream",
     "text": [
      "100%|██████████| 1500/1500 [00:05<00:00, 296.46it/s]\n"
     ]
    },
    {
     "name": "stdout",
     "output_type": "stream",
     "text": [
      "Recall: 0.0664\n",
      "H=5_R=5 16\n"
     ]
    },
    {
     "name": "stderr",
     "output_type": "stream",
     "text": [
      "100%|██████████| 1500/1500 [00:05<00:00, 297.39it/s]\n"
     ]
    },
    {
     "name": "stdout",
     "output_type": "stream",
     "text": [
      "Recall: 0.0681\n",
      "H=10_R=0 16\n"
     ]
    },
    {
     "name": "stderr",
     "output_type": "stream",
     "text": [
      "100%|██████████| 1500/1500 [00:05<00:00, 296.47it/s]\n"
     ]
    },
    {
     "name": "stdout",
     "output_type": "stream",
     "text": [
      "Recall: 0.0582\n",
      "H=10_R=1 16\n"
     ]
    },
    {
     "name": "stderr",
     "output_type": "stream",
     "text": [
      "100%|██████████| 1500/1500 [00:05<00:00, 296.62it/s]\n"
     ]
    },
    {
     "name": "stdout",
     "output_type": "stream",
     "text": [
      "Recall: 0.0601\n",
      "H=10_R=2 16\n"
     ]
    },
    {
     "name": "stderr",
     "output_type": "stream",
     "text": [
      "100%|██████████| 1500/1500 [00:05<00:00, 296.69it/s]\n"
     ]
    },
    {
     "name": "stdout",
     "output_type": "stream",
     "text": [
      "Recall: 0.0660\n",
      "H=10_R=3 16\n"
     ]
    },
    {
     "name": "stderr",
     "output_type": "stream",
     "text": [
      "100%|██████████| 1500/1500 [00:05<00:00, 297.24it/s]\n"
     ]
    },
    {
     "name": "stdout",
     "output_type": "stream",
     "text": [
      "Recall: 0.0650\n",
      "H=10_R=4 16\n"
     ]
    },
    {
     "name": "stderr",
     "output_type": "stream",
     "text": [
      "100%|██████████| 1500/1500 [00:05<00:00, 297.23it/s]\n"
     ]
    },
    {
     "name": "stdout",
     "output_type": "stream",
     "text": [
      "Recall: 0.0679\n",
      "H=10_R=5 16\n"
     ]
    },
    {
     "name": "stderr",
     "output_type": "stream",
     "text": [
      "100%|██████████| 1500/1500 [00:05<00:00, 296.56it/s]\n"
     ]
    },
    {
     "name": "stdout",
     "output_type": "stream",
     "text": [
      "Recall: 0.0679\n",
      "H=15_R=0 16\n"
     ]
    },
    {
     "name": "stderr",
     "output_type": "stream",
     "text": [
      "100%|██████████| 1500/1500 [00:05<00:00, 296.61it/s]\n"
     ]
    },
    {
     "name": "stdout",
     "output_type": "stream",
     "text": [
      "Recall: 0.0941\n",
      "H=15_R=1 16\n"
     ]
    },
    {
     "name": "stderr",
     "output_type": "stream",
     "text": [
      "100%|██████████| 1500/1500 [00:05<00:00, 296.49it/s]\n"
     ]
    },
    {
     "name": "stdout",
     "output_type": "stream",
     "text": [
      "Recall: 0.0916\n",
      "H=15_R=2 16\n"
     ]
    },
    {
     "name": "stderr",
     "output_type": "stream",
     "text": [
      "100%|██████████| 1500/1500 [00:05<00:00, 296.75it/s]\n"
     ]
    },
    {
     "name": "stdout",
     "output_type": "stream",
     "text": [
      "Recall: 0.0941\n",
      "H=15_R=3 16\n"
     ]
    },
    {
     "name": "stderr",
     "output_type": "stream",
     "text": [
      "100%|██████████| 1500/1500 [00:05<00:00, 296.61it/s]\n"
     ]
    },
    {
     "name": "stdout",
     "output_type": "stream",
     "text": [
      "Recall: 0.0965\n",
      "H=15_R=4 16\n"
     ]
    },
    {
     "name": "stderr",
     "output_type": "stream",
     "text": [
      "100%|██████████| 1500/1500 [00:05<00:00, 297.23it/s]\n"
     ]
    },
    {
     "name": "stdout",
     "output_type": "stream",
     "text": [
      "Recall: 0.0965\n",
      "H=15_R=5 16\n"
     ]
    },
    {
     "name": "stderr",
     "output_type": "stream",
     "text": [
      "100%|██████████| 1500/1500 [00:05<00:00, 296.70it/s]\n"
     ]
    },
    {
     "name": "stdout",
     "output_type": "stream",
     "text": [
      "Recall: 0.0965\n",
      "H=20_R=0 16\n"
     ]
    },
    {
     "name": "stderr",
     "output_type": "stream",
     "text": [
      "100%|██████████| 1500/1500 [00:05<00:00, 297.24it/s]\n",
      "../util/Metrics.py:30: RuntimeWarning: invalid value encountered in double_scalars\n",
      "  return np.array(recall_list).sum() / target.sum(), np.array(recall_list).sum(0).sum(-1) / target.sum(0).sum(-1)\n"
     ]
    },
    {
     "name": "stdout",
     "output_type": "stream",
     "text": [
      "Recall: nan\n",
      "H=20_R=1 16\n"
     ]
    },
    {
     "name": "stderr",
     "output_type": "stream",
     "text": [
      "100%|██████████| 1500/1500 [00:05<00:00, 297.26it/s]\n"
     ]
    },
    {
     "name": "stdout",
     "output_type": "stream",
     "text": [
      "Recall: nan\n",
      "H=20_R=2 16\n"
     ]
    },
    {
     "name": "stderr",
     "output_type": "stream",
     "text": [
      "100%|██████████| 1500/1500 [00:05<00:00, 296.58it/s]\n"
     ]
    },
    {
     "name": "stdout",
     "output_type": "stream",
     "text": [
      "Recall: nan\n",
      "H=20_R=3 16\n"
     ]
    },
    {
     "name": "stderr",
     "output_type": "stream",
     "text": [
      "100%|██████████| 1500/1500 [00:05<00:00, 296.61it/s]\n"
     ]
    },
    {
     "name": "stdout",
     "output_type": "stream",
     "text": [
      "Recall: nan\n",
      "H=20_R=4 16\n"
     ]
    },
    {
     "name": "stderr",
     "output_type": "stream",
     "text": [
      "100%|██████████| 1500/1500 [00:05<00:00, 296.59it/s]\n"
     ]
    },
    {
     "name": "stdout",
     "output_type": "stream",
     "text": [
      "Recall: nan\n",
      "H=20_R=5 16\n"
     ]
    },
    {
     "name": "stderr",
     "output_type": "stream",
     "text": [
      "100%|██████████| 1500/1500 [00:05<00:00, 297.35it/s]\n"
     ]
    },
    {
     "name": "stdout",
     "output_type": "stream",
     "text": [
      "Recall: nan\n",
      "checkpoint/KNN.npy\n"
     ]
    }
   ],
   "source": [
    "test_generator_config = {\n",
    "    'training' : False, \n",
    "    'max_sampling' : 6,\n",
    "    'mask_rate' : None,\n",
    "    'historical' : None,\n",
    "    'batch_size' : 16,\n",
    "    'shuffle' : False,\n",
    "    'fixed_seed' : True}\n",
    "    \n",
    "    \n",
    "results_mat = {}\n",
    "for h in list(range(4)) + list(range(5, 21, 5)):\n",
    "    results_mat[h] = {}\n",
    "    for r in list(range(6)):\n",
    "        test_generator_config['sample_func'] = '(lambda x:x)'\n",
    "        test_generator_config['sample_param'] = str(r)\n",
    "        test_generator_config['history_func'] = '(lambda x:x)'\n",
    "        test_generator_config['history_param'] = str(h)\n",
    "        test_generator_config['name'] = 'H={1}_R={0}'.format(r, h)\n",
    "        test_generator = Generator.TimeMultihotGenerator(\n",
    "            user_dict, test_keys, basic_config, test_generator_config)\n",
    "        \n",
    "        print(test_generator.name + ' ' + str(test_generator.batch_size))\n",
    "        train_features = torch.FloatTensor(train_courses.sum(1).astype(float))\n",
    "        train_features_cuda = train_features.cuda(basic_config['cuda_num'])\n",
    "        test_courses, test_target = generator2feature(test_generator)\n",
    "        user_pred = userKNN_GPU(train_features_cuda, test_courses, basic_config['cuda_num'])\n",
    "        recall, recall_per_sem = Metrics.recall(test_target[:, h:], user_pred[:, h:], at_n=10)\n",
    "        print('Recall: {:.4f}'.format(recall))\n",
    "        results_mat[h][r] = [recall, recall_per_sem]\n",
    "save_name = save_name + '.npy'\n",
    "print(save_name)\n",
    "np.save(save_name, np.array(results_mat))"
   ]
  },
  {
   "cell_type": "code",
   "execution_count": null,
   "metadata": {},
   "outputs": [],
   "source": []
  }
 ],
 "metadata": {
  "kernelspec": {
   "display_name": "Python 3",
   "language": "python",
   "name": "python3"
  },
  "language_info": {
   "codemirror_mode": {
    "name": "ipython",
    "version": 3
   },
   "file_extension": ".py",
   "mimetype": "text/x-python",
   "name": "python",
   "nbconvert_exporter": "python",
   "pygments_lexer": "ipython3",
   "version": "3.7.0"
  }
 },
 "nbformat": 4,
 "nbformat_minor": 4
}
