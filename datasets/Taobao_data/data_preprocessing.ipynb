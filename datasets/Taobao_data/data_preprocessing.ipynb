{
 "cells": [
  {
   "cell_type": "code",
   "execution_count": null,
   "metadata": {},
   "outputs": [],
   "source": [
    "import pandas as pd\n",
    "import numpy as np\n",
    "from tqdm import tqdm\n",
    "import pickle"
   ]
  },
  {
   "cell_type": "code",
   "execution_count": null,
   "metadata": {},
   "outputs": [],
   "source": [
    "data = pd.read_csv('ijcai2016_taobao.csv')\n",
    "data = data[data['act_ID'] == 1]\n",
    "data = data.iloc[data['time'].argsort()]"
   ]
  },
  {
   "cell_type": "code",
   "execution_count": null,
   "metadata": {},
   "outputs": [],
   "source": [
    "for iter in range(1):\n",
    "    user_frequency = np.argsort(np.bincount(data.iloc[:, 0]))\n",
    "    user_remained_index = np.zeros([len(user_frequency)])\n",
    "    user_remained_index[user_frequency[-10000:]] = 1\n",
    "    user_remained_index = {iter:user_remained_index[iter] for iter in range(len(user_frequency))}\n",
    "    \n",
    "    item_frequency = np.argsort(np.bincount(data.iloc[:, 2]))\n",
    "    item_remained_index = np.zeros([len(item_frequency), ])\n",
    "    item_remained_index[item_frequency[-10000:]] = 1\n",
    "    item_remained_index = {iter:item_remained_index[iter] for iter in range(len(item_frequency))}\n",
    "    \n",
    "    data = data[data.iloc[:, 0].map(user_remained_index).astype(bool)]\n",
    "    data = data[data.iloc[:, 2].map(item_remained_index).astype(bool)]\n",
    "\n",
    "    data.iloc[:, 0], user = data.iloc[:, 0].factorize(sort=True)\n",
    "    data.iloc[:, 2], item = data.iloc[:, 2].factorize(sort=True)\n",
    "\n",
    "print('Number Users : {}'.format(len(user)))\n",
    "print('Number Items : {}'.format(len(item)))\n",
    "\n",
    "print('Density : {}'.format(data.shape[0] / (len(user) * len(item))))\n",
    "\n",
    "data.iloc[:, 0] = data.iloc[:, 0].factorize(sort=True)[0]\n",
    "data.iloc[:, 1] = data.iloc[:, 1].factorize(sort=True)[0]\n",
    "data.iloc[:, 2] = data.iloc[:, 2].factorize(sort=True)[0]\n",
    "data.iloc[:, 3] = data.iloc[:, 3].factorize(sort=True)[0]\n",
    "data.iloc[:, 5] = data.iloc[:, 5].factorize(sort=True)[0]"
   ]
  },
  {
   "cell_type": "code",
   "execution_count": null,
   "metadata": {},
   "outputs": [],
   "source": [
    "user_dict = {use_ID:[] for use_ID in data['use_ID']}\n",
    "\n",
    "for row_id in tqdm(range(data.shape[0])):\n",
    "    user = data.iloc[row_id, 0]\n",
    "    seller = data.iloc[row_id, 1]\n",
    "    item = data.iloc[row_id, 2]\n",
    "    cate = data.iloc[row_id, 3]\n",
    "    t = data.iloc[row_id, -1]\n",
    "    user_dict[user].append([t, item, seller, cate])\n",
    "    \n",
    "for key in tqdm(user_dict):\n",
    "    user_dict[key] = np.array(user_dict[key])\n",
    "    user_dict[key] = user_dict[key][user_dict[key][:, 0].argsort()]\n",
    "    new_time = pd.factorize(user_dict[key][:, 0], sort=True)[0][:, np.newaxis]\n",
    "    user_dict[key] = np.concatenate([new_time, user_dict[key]], axis=-1)\n",
    "    \n",
    "with open('Taobao.pkl', 'wb') as f:\n",
    "    pickle.dump(user_dict, f)"
   ]
  },
  {
   "cell_type": "code",
   "execution_count": null,
   "metadata": {},
   "outputs": [],
   "source": []
  }
 ],
 "metadata": {
  "kernelspec": {
   "display_name": "Python 3",
   "language": "python",
   "name": "python3"
  },
  "language_info": {
   "codemirror_mode": {
    "name": "ipython",
    "version": 3
   },
   "file_extension": ".py",
   "mimetype": "text/x-python",
   "name": "python",
   "nbconvert_exporter": "python",
   "pygments_lexer": "ipython3",
   "version": "3.7.9"
  }
 },
 "nbformat": 4,
 "nbformat_minor": 4
}
