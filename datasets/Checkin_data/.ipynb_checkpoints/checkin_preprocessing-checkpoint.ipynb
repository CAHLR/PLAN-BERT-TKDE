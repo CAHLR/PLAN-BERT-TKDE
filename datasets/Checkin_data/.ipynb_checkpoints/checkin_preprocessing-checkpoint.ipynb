{
 "cells": [
  {
   "cell_type": "code",
   "execution_count": 1,
   "metadata": {},
   "outputs": [],
   "source": [
    "import numpy as np\n",
    "import pandas as pd\n",
    "import pickle, time\n",
    "import tqdm, os\n",
    "\n",
    "import matplotlib.pyplot as plt\n",
    "%matplotlib inline"
   ]
  },
  {
   "cell_type": "code",
   "execution_count": 2,
   "metadata": {},
   "outputs": [],
   "source": [
    "cityname = 'TKY' # TKY\n",
    "\n",
    "# NYC: 38333, 251, 425, 589\n",
    "# TKY: 61858, 247, 358, 443\n",
    "\n",
    "timezone = {'NYC':-5, 'TKY':9}[cityname]\n",
    "\n",
    "data = pd.read_csv('datasets/dataset_TSMC2014_{}.csv'.format(cityname))\n",
    "\n",
    "data['utcTimestamp'] = data['utcTimestamp'].apply(lambda x:time.mktime(time.strptime(x[:20] + x[-4:])))\n",
    "data['utcTimestamp'] = data['utcTimestamp'].apply(lambda x: (x//(60*60)+timezone)//(24))\n",
    "data['latitude'] = data['latitude'].round(2)\n",
    "data['longitude'] = -data['longitude'].round(2)\n",
    "\n",
    "data['venueId'], venue_list = data['venueId'].factorize(sort=True)\n",
    "#for iter in range(0):\n",
    "#    item_threshhold = np.bincount(data.iloc[:, 1])[np.bincount(data.iloc[:, 1]).argsort()[-1000]]\n",
    "#    item_remained_index = (np.bincount(data.iloc[:, 1])>=item_threshhold)\n",
    "#    data = data[data.iloc[:, 1].apply(lambda x:item_remained_index[x])]\n",
    "#    \n",
    "#    user_threshhold = 20\n",
    "#    user_remained_index = (np.bincount(data.iloc[:, 0])>=user_threshhold)\n",
    "#    data = data[data.iloc[:, 0].apply(lambda x:user_remained_index[x])]\n",
    "\n",
    "data['venueId'], user_list = data['venueId'].factorize(sort=True)\n",
    "data['latitude'], lat_list = data['latitude'].factorize(sort=True)\n",
    "data['longitude'], lon_list = data['longitude'].factorize(sort=True)\n",
    "data['venueCategory'], venue_cate_list = data['venueCategory'].factorize(sort=True)"
   ]
  },
  {
   "cell_type": "code",
   "execution_count": 14,
   "metadata": {},
   "outputs": [
    {
     "name": "stdout",
     "output_type": "stream",
     "text": [
      "Number Users : 1083\n",
      "Number Items : 5135\n"
     ]
    }
   ],
   "source": [
    "for iter in range(1):\n",
    "    item_threshhold = 0\n",
    "    item_remained_index = (np.bincount(data['venueId'])>=item_threshhold)\n",
    "    data = data[data['venueId'].apply(lambda x:item_remained_index[x])]\n",
    "\n",
    "    user_threshhold = 0\n",
    "    user_remained_index = (np.bincount(data['userId'])>=user_threshhold)\n",
    "    data = data[data['userId'].apply(lambda x:user_remained_index[x])]\n",
    "\n",
    "    data['userId'], user_list = data['userId'].factorize(sort=True)\n",
    "    data['venueId'], item_list = data['venueId'].factorize(sort=True)\n",
    "\n",
    "print('Number Users : {}'.format(len(user_list)))\n",
    "print('Number Items : {}'.format(len(item_list)))"
   ]
  },
  {
   "cell_type": "code",
   "execution_count": 15,
   "metadata": {},
   "outputs": [
    {
     "name": "stderr",
     "output_type": "stream",
     "text": [
      "100%|██████████| 147938/147938 [00:18<00:00, 8036.58it/s]\n",
      "100%|██████████| 1083/1083 [00:00<00:00, 1158.25it/s]\n",
      "1083it [00:00, 419082.13it/s]"
     ]
    },
    {
     "name": "stdout",
     "output_type": "stream",
     "text": [
      "[1083, 251, 45, 60]\n"
     ]
    },
    {
     "name": "stderr",
     "output_type": "stream",
     "text": [
      "\n"
     ]
    }
   ],
   "source": [
    "user_dict = dict([(user_id, []) for user_id in data.iloc[:,0].unique()])\n",
    "distribution = np.zeros([500])\n",
    "start = []\n",
    "number = []\n",
    "length = []\n",
    "\n",
    "for row_id in tqdm.tqdm(range(data.shape[0])):\n",
    "    user = data.iloc[row_id, 0]\n",
    "    item = data.iloc[row_id, 1]\n",
    "    cate = data.iloc[row_id, 3]\n",
    "    lat = data.iloc[row_id, 4]\n",
    "    lon = data.iloc[row_id, 5]\n",
    "    t = data.iloc[row_id, 7]\n",
    "    user_dict[user].append([t, item, cate, lat, lon])\n",
    "    \n",
    "for user in tqdm.tqdm(user_dict):\n",
    "    user_dict[user]=np.array(user_dict[user])\n",
    "    new_time = pd.factorize(user_dict[user][:, 0], sort=True)[0]\n",
    "    user_dict[user] = np.concatenate([new_time[:, np.newaxis], user_dict[user]], axis=-1)\n",
    "    number.append(user_dict[user].shape[0])\n",
    "    length.append(user_dict[user][:,0].max())\n",
    "    \n",
    "user_dict2 = {}\n",
    "for iter, key in tqdm.tqdm(enumerate(user_dict)):\n",
    "    if length[iter] >= 28:\n",
    "        user_dict2[key] = user_dict[key]\n",
    "    \n",
    "with open('{0}_dataset.pkl'.format(cityname), 'wb') as f:\n",
    "    pickle.dump(user_dict2, f)\n",
    "print([len(user_list), len(venue_cate_list), len(lat_list), len(lon_list)])"
   ]
  },
  {
   "cell_type": "code",
   "execution_count": null,
   "metadata": {},
   "outputs": [],
   "source": []
  }
 ],
 "metadata": {
  "kernelspec": {
   "display_name": "Python 3",
   "language": "python",
   "name": "python3"
  },
  "language_info": {
   "codemirror_mode": {
    "name": "ipython",
    "version": 3
   },
   "file_extension": ".py",
   "mimetype": "text/x-python",
   "name": "python",
   "nbconvert_exporter": "python",
   "pygments_lexer": "ipython3",
   "version": "3.6.3"
  }
 },
 "nbformat": 4,
 "nbformat_minor": 4
}
