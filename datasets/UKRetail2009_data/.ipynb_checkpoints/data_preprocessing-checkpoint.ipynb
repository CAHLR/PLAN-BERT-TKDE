{
 "cells": [
  {
   "cell_type": "code",
   "execution_count": null,
   "metadata": {},
   "outputs": [],
   "source": [
    "import pandas as pd\n",
    "import numpy as np\n",
    "from tqdm import tqdm\n",
    "import pickle\n",
    "from datetime import date\n",
    "import io"
   ]
  },
  {
   "cell_type": "code",
   "execution_count": null,
   "metadata": {},
   "outputs": [],
   "source": [
    "csv = pd.read_csv('UKRetail2009.csv')\n",
    "\n",
    "def InvoiceDate2date(x):\n",
    "    x = x.split(' ')[0]\n",
    "    temp = x.split('/')\n",
    "    return int(date(int(temp[0]),int(temp[1]),int(temp[1])).isoformat().replace('-', ''))\n",
    "\n",
    "csv['InvoiceDate'] = csv['InvoiceDate'].apply(InvoiceDate2date)\n",
    "csv['Invoice'] = csv['Invoice'].apply(lambda x:x.replace('C', ''))\n",
    "csv = csv.drop(['StockCode', 'Quantity', 'Price', 'Country'], axis=1)"
   ]
  },
  {
   "cell_type": "code",
   "execution_count": null,
   "metadata": {},
   "outputs": [],
   "source": [
    "csv.iloc[:, 0] = csv.iloc[:, 0].factorize(sort=True)[0]\n",
    "csv.iloc[:, 1] = csv.iloc[:, 1].factorize(sort=True)[0]\n",
    "csv.iloc[:, 2] = csv.iloc[:, 2].factorize(sort=True)[0]\n",
    "csv.iloc[:, 3] = csv.iloc[:, 3].factorize(sort=True)[0]\n",
    "csv"
   ]
  },
  {
   "cell_type": "code",
   "execution_count": null,
   "metadata": {},
   "outputs": [],
   "source": [
    "user_dict = {user_id:[] for user_id in csv['Customer ID']}\n",
    "\n",
    "for row_id in tqdm(range(csv.shape[0])):\n",
    "    user = csv.iloc[row_id, -1]\n",
    "    invoice = csv.iloc[row_id, 0]\n",
    "    item = csv.iloc[row_id, 1]\n",
    "    t = csv.iloc[row_id, 2]\n",
    "    user_dict[user].append([invoice, t, item])\n",
    "    \n",
    "for user in tqdm(user_dict):\n",
    "    user_dict[user] = np.array(user_dict[user])\n",
    "    user_dict[user][:, 0] = pd.factorize(user_dict[user][:, 0], sort=True)[0]\n",
    "    \n",
    "with open('UKRetail2009.pkl', 'wb') as f:\n",
    "    pickle.dump(user_dict, f)"
   ]
  },
  {
   "cell_type": "code",
   "execution_count": null,
   "metadata": {},
   "outputs": [],
   "source": []
  }
 ],
 "metadata": {
  "kernelspec": {
   "display_name": "Python 3",
   "language": "python",
   "name": "python3"
  },
  "language_info": {
   "codemirror_mode": {
    "name": "ipython",
    "version": 3
   },
   "file_extension": ".py",
   "mimetype": "text/x-python",
   "name": "python",
   "nbconvert_exporter": "python",
   "pygments_lexer": "ipython3",
   "version": "3.7.9"
  }
 },
 "nbformat": 4,
 "nbformat_minor": 4
}
