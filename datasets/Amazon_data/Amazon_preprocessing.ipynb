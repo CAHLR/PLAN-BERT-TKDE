{
 "cells": [
  {
   "cell_type": "code",
   "execution_count": null,
   "metadata": {},
   "outputs": [],
   "source": [
    "import numpy as np\n",
    "import pandas as pd\n",
    "import pickle\n",
    "import tqdm, os\n",
    "\n",
    "import matplotlib.pyplot as plt\n",
    "%matplotlib inline"
   ]
  },
  {
   "cell_type": "code",
   "execution_count": null,
   "metadata": {},
   "outputs": [],
   "source": [
    "id = -1\n",
    "path_list = [\n",
    "    ['Beauty', 'ratings_Beauty.csv', 3, 10],\n",
    "    ['Music', 'ratings_Digital_Music.csv', 3, 5],\n",
    "    ['Video', 'ratings_Amazon_Instant_Video.csv'],\n",
    "    ['Book', 'ratings_Books.csv'],\n",
    "    ['Game', 'ratings_Video_Games.csv', 3, 5],\n",
    "    ['Movie', 'ratings_Movies_and_TV.csv', 15, 15]]\n",
    "path = path_list[id]\n",
    "\n",
    "import time\n",
    "def TimeStamp2Month(timestamp):\n",
    "    time_array = time.localtime(timestamp)\n",
    "    month, year = time_array.tm_mon, time_array.tm_year\n",
    "    return (year - 1998) * 12 + month\n",
    "\n",
    "data = pd.read_csv(os.path.join(*path[:2]), header=None)\n",
    "\n",
    "data.iloc[:, 3] = data.iloc[:, 3].apply(lambda x:int(x // 3600 // 24))\n",
    "plt.plot(np.bincount(data.iloc[:, 3]))\n",
    "\n",
    "data.iloc[:, 0], user = data.iloc[:, 0].factorize(sort=True)\n",
    "data.iloc[:, 1], item = data.iloc[:, 1].factorize(sort=True)\n",
    "data.iloc[:, 2], _    = data.iloc[:, 2].factorize(sort=True)\n",
    "data = data.sort_values(by=3)"
   ]
  },
  {
   "cell_type": "code",
   "execution_count": null,
   "metadata": {},
   "outputs": [],
   "source": [
    "for iter in range(1):\n",
    "    user_threshhold = 0\n",
    "    user_frequency = np.argsort(np.bincount(data.iloc[:, 0]))\n",
    "    user_remained_index = np.zeros([len(user_frequency)])\n",
    "    user_remained_index[user_frequency[-10000:]] = 1\n",
    "    user_remained_index = {iter:user_remained_index[iter] for iter in range(len(user_frequency))}\n",
    "    \n",
    "    item_threshhold = 0\n",
    "    item_frequency = np.argsort(np.bincount(data.iloc[:, 1]))\n",
    "    item_remained_index = np.zeros([len(item_frequency), ])\n",
    "    item_remained_index[item_frequency[-10000:]] = 1\n",
    "    item_remained_index = {iter:item_remained_index[iter] for iter in range(len(item_frequency))}\n",
    "    \n",
    "    data = data[data.iloc[:, 0].map(user_remained_index).astype(bool)]\n",
    "    data = data[data.iloc[:, 1].map(item_remained_index).astype(bool)]\n",
    "\n",
    "    data.iloc[:, 0], user = data.iloc[:, 0].factorize(sort=True)\n",
    "    data.iloc[:, 1], item = data.iloc[:, 1].factorize(sort=True)\n",
    "\n",
    "print('Number Users : {}'.format(len(user)))\n",
    "print('Number Items : {}'.format(len(item)))\n",
    "\n",
    "print('Density : {}'.format(data.shape[0] / (len(user) * len(item))))"
   ]
  },
  {
   "cell_type": "code",
   "execution_count": null,
   "metadata": {},
   "outputs": [],
   "source": [
    "user_dict = {user_id:[] for user_id in data[0]}\n",
    "\n",
    "for row_id in tqdm.tqdm(range(data.shape[0])):\n",
    "    user = data.iloc[row_id, 0]\n",
    "    item = data.iloc[row_id, 1]\n",
    "    rating = data.iloc[row_id, 2]\n",
    "    t = data.iloc[row_id, 3]\n",
    "    user_dict[user].append([t, item, rating])\n",
    "    \n",
    "for key in tqdm.tqdm(user_dict):\n",
    "    user_dict[key] = np.array(user_dict[key])\n",
    "    user_dict[key] = user_dict[key][user_dict[key][:, 0].argsort()]\n",
    "    new_time = pd.factorize(user_dict[key][:, 0], sort=True)[0][:, np.newaxis]\n",
    "    user_dict[key] = np.concatenate([new_time, user_dict[key]], axis=-1)\n",
    "    \n",
    "with open('{0}/basket_dataset.pkl'.format(path[0]), 'wb') as f:\n",
    "    pickle.dump(user_dict, f)"
   ]
  }
 ],
 "metadata": {
  "kernelspec": {
   "display_name": "Python 3",
   "language": "python",
   "name": "python3"
  },
  "language_info": {
   "codemirror_mode": {
    "name": "ipython",
    "version": 3
   },
   "file_extension": ".py",
   "mimetype": "text/x-python",
   "name": "python",
   "nbconvert_exporter": "python",
   "pygments_lexer": "ipython3",
   "version": "3.7.9"
  }
 },
 "nbformat": 4,
 "nbformat_minor": 4
}
